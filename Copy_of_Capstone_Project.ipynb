{
  "nbformat": 4,
  "nbformat_minor": 0,
  "metadata": {
    "kernelspec": {
      "display_name": "feedforward",
      "language": "python",
      "name": "feedforward"
    },
    "language_info": {
      "codemirror_mode": {
        "name": "ipython",
        "version": 3
      },
      "file_extension": ".py",
      "mimetype": "text/x-python",
      "name": "python",
      "nbconvert_exporter": "python",
      "pygments_lexer": "ipython3",
      "version": "3.6.9"
    },
    "colab": {
      "name": "Copy of Capstone Project.ipynb",
      "provenance": [],
      "collapsed_sections": [],
      "include_colab_link": true
    },
    "accelerator": "GPU"
  },
  "cells": [
    {
      "cell_type": "markdown",
      "metadata": {
        "id": "view-in-github",
        "colab_type": "text"
      },
      "source": [
        "<a href=\"https://colab.research.google.com/github/Hsynyvz/Coursera/blob/main/Copy_of_Capstone_Project.ipynb\" target=\"_parent\"><img src=\"https://colab.research.google.com/assets/colab-badge.svg\" alt=\"Open In Colab\"/></a>"
      ]
    },
    {
      "cell_type": "markdown",
      "metadata": {
        "id": "rffwkDWTz_Fo"
      },
      "source": [
        "# Capstone Project\n",
        "## Image classifier for the SVHN dataset\n",
        "### Instructions\n",
        "\n",
        "In this notebook, you will create a neural network that classifies real-world images digits. You will use concepts from throughout this course in building, training, testing, validating and saving your Tensorflow classifier model.\n",
        "\n",
        "This project is peer-assessed. Within this notebook you will find instructions in each section for how to complete the project. Pay close attention to the instructions as the peer review will be carried out according to a grading rubric that checks key parts of the project instructions. Feel free to add extra cells into the notebook as required.\n",
        "\n",
        "### How to submit\n",
        "\n",
        "When you have completed the Capstone project notebook, you will submit a pdf of the notebook for peer review. First ensure that the notebook has been fully executed from beginning to end, and all of the cell outputs are visible. This is important, as the grading rubric depends on the reviewer being able to view the outputs of your notebook. Save the notebook as a pdf (you could download the notebook with File -> Download .ipynb, open the notebook locally, and then File -> Download as -> PDF via LaTeX), and then submit this pdf for review.\n",
        "\n",
        "### Let's get started!\n",
        "\n",
        "We'll start by running some imports, and loading the dataset. For this project you are free to make further imports throughout the notebook as you wish. "
      ]
    },
    {
      "cell_type": "code",
      "metadata": {
        "id": "O3vI8jSIz_Fs"
      },
      "source": [
        "import tensorflow as tf\n",
        "from scipy.io import loadmat"
      ],
      "execution_count": null,
      "outputs": []
    },
    {
      "cell_type": "markdown",
      "metadata": {
        "id": "8OrHY7TRz_Fx"
      },
      "source": [
        "For the capstone project, you will use the [SVHN dataset](http://ufldl.stanford.edu/housenumbers/). This is an image dataset of over 600,000 digit images in all, and is a harder dataset than MNIST as the numbers appear in the context of natural scene images. SVHN is obtained from house numbers in Google Street View images.\n",
        "\n",
        "* Y. Netzer, T. Wang, A. Coates, A. Bissacco, B. Wu and A. Y. Ng. \"Reading Digits in Natural Images with Unsupervised Feature Learning\". NIPS Workshop on Deep Learning and Unsupervised Feature Learning, 2011.\n",
        "\n",
        "The train and test datasets required for this project can be downloaded from [here](http://ufldl.stanford.edu/housenumbers/train.tar.gz) and [here](http://ufldl.stanford.edu/housenumbers/test.tar.gz). Once unzipped, you will have two files: `train_32x32.mat` and `test_32x32.mat`. You should store these files in Drive for use in this Colab notebook.\n",
        "\n",
        "Your goal is to develop an end-to-end workflow for building, training, validating, evaluating and saving a neural network that classifies a real-world image into one of ten classes."
      ]
    },
    {
      "cell_type": "code",
      "metadata": {
        "id": "r8BHW8P_2wxw",
        "colab": {
          "base_uri": "https://localhost:8080/"
        },
        "outputId": "605179e2-ac30-424d-cc3d-7bf188cc1801"
      },
      "source": [
        "# Run this cell to connect to your Drive folder\n",
        "\n",
        "from google.colab import drive\n",
        "drive.mount('/content/gdrive')"
      ],
      "execution_count": null,
      "outputs": [
        {
          "output_type": "stream",
          "text": [
            "Mounted at /content/gdrive\n"
          ],
          "name": "stdout"
        }
      ]
    },
    {
      "cell_type": "code",
      "metadata": {
        "id": "YWdiz3n_z_Fy"
      },
      "source": [
        "# Load the dataset from your Drive folder\n",
        "\n",
        "train = loadmat(\"/content/gdrive/MyDrive/train_32x32.mat\")\n",
        "\n",
        "test = loadmat('/content/gdrive/MyDrive/test_32x32.mat')\n"
      ],
      "execution_count": null,
      "outputs": []
    },
    {
      "cell_type": "markdown",
      "metadata": {
        "id": "Sot1IcuZz_F2"
      },
      "source": [
        "Both `train` and `test` are dictionaries with keys `X` and `y` for the input images and labels respectively."
      ]
    },
    {
      "cell_type": "markdown",
      "metadata": {
        "id": "_Q1n_Ai2z_F3"
      },
      "source": [
        "## 1. Inspect and preprocess the dataset\n",
        "* Extract the training and testing images and labels separately from the train and test dictionaries loaded for you.\n",
        "* Select a random sample of images and corresponding labels from the dataset (at least 10), and display them in a figure.\n",
        "* Convert the training and test images to grayscale by taking the average across all colour channels for each pixel. _Hint: retain the channel dimension, which will now have size 1._\n",
        "* Select a random sample of the grayscale images and corresponding labels from the dataset (at least 10), and display them in a figure."
      ]
    },
    {
      "cell_type": "markdown",
      "metadata": {
        "id": "q86ibJddk32s"
      },
      "source": [
        "\n",
        "**Street View House Numbers Classification**\n",
        "\n",
        "The Street View House Numbers (SVHN) dataset is one of the most popular benchmarks for object recognition tasks in academic papers. The images were obtained from house numbers in Google Street View images, are hosted by Stanford University and are very similar in philosophy with the MNIST dataset. However, the original purpose of this dataset is to solve a harder problem: that of recognizing digits and numbers in natural scene images.\n",
        "\n",
        "The data of the Street View House Numbers dataset, which can originally be found here are originally in .mat, i.e. files which can be best processed with MATLAB; thus, some preprocessing is required (see section 2). It is important to note that the data are divided into two formats and in this particular kernel we are going to use Format 2:\n",
        "\n",
        "Format 1: The original, variable-resolution colored house-number images with character level bounding boxes.\n",
        "\n",
        "Format 2: The cropped digits (32x32 pixels) which follow the philosophy of the MNIST dataset more closely, but also contain some distracting digits to the sides of the digit of interest.\n"
      ]
    },
    {
      "cell_type": "code",
      "metadata": {
        "id": "Lwu7VWCBkm15"
      },
      "source": [
        "import numpy as np\n",
        "import keras\n",
        "import seaborn as sns\n",
        "from matplotlib import pyplot as plt\n",
        "from scipy.io import loadmat\n",
        "from sklearn.model_selection import train_test_split\n",
        "from sklearn.preprocessing import LabelBinarizer\n",
        "from sklearn.metrics import confusion_matrix\n",
        "from keras.preprocessing.image import ImageDataGenerator\n",
        "\n",
        "from tensorflow.keras.layers import Conv2D , Dense ,Flatten ,BatchNormalization, MaxPool2D, Dropout\n",
        "from tensorflow.keras.models import Sequential\n",
        "from tensorflow.keras.callbacks import EarlyStopping ,ModelCheckpoint\n",
        "%matplotlib inline"
      ],
      "execution_count": null,
      "outputs": []
    },
    {
      "cell_type": "code",
      "metadata": {
        "id": "J6XVfqWykmyI"
      },
      "source": [
        "np.random.seed(20)"
      ],
      "execution_count": null,
      "outputs": []
    },
    {
      "cell_type": "code",
      "metadata": {
        "id": "g06jX-Drkmvo"
      },
      "source": [
        "# Load images and labels\n",
        "\n",
        "train_images = np.array(train['X'])\n",
        "test_images = np.array(test['X'])\n",
        "\n",
        "train_labels = train['y']\n",
        "test_labels = test['y']\n"
      ],
      "execution_count": null,
      "outputs": []
    },
    {
      "cell_type": "code",
      "metadata": {
        "id": "MfHq-zfvkmtE",
        "colab": {
          "base_uri": "https://localhost:8080/"
        },
        "outputId": "244b73d2-1d6a-4da4-ea05-59ca6fd9dbe0"
      },
      "source": [
        "# Check the shape of the data\n",
        "\n",
        "print(train_images.shape)\n",
        "print(test_images.shape)"
      ],
      "execution_count": null,
      "outputs": [
        {
          "output_type": "stream",
          "text": [
            "(32, 32, 3, 73257)\n",
            "(32, 32, 3, 26032)\n"
          ],
          "name": "stdout"
        }
      ]
    },
    {
      "cell_type": "code",
      "metadata": {
        "id": "GIiVcLQDkmqT",
        "colab": {
          "base_uri": "https://localhost:8080/"
        },
        "outputId": "66318c2e-1f75-4656-f97d-c4140f4247f1"
      },
      "source": [
        "# Fix the axes of the images\n",
        "\n",
        "train_images = np.moveaxis(train_images, -1, 0)\n",
        "test_images = np.moveaxis(test_images, -1, 0)\n",
        "\n",
        "print(train_images.shape)\n",
        "print(test_images.shape)"
      ],
      "execution_count": null,
      "outputs": [
        {
          "output_type": "stream",
          "text": [
            "(73257, 32, 32, 3)\n",
            "(26032, 32, 32, 3)\n"
          ],
          "name": "stdout"
        }
      ]
    },
    {
      "cell_type": "code",
      "metadata": {
        "colab": {
          "base_uri": "https://localhost:8080/"
        },
        "id": "mB8w9Um950rU",
        "outputId": "a05d2808-6e20-463b-c407-aae24caec70e"
      },
      "source": [
        "test_images[0].shape"
      ],
      "execution_count": null,
      "outputs": [
        {
          "output_type": "execute_result",
          "data": {
            "text/plain": [
              "(32, 32, 3)"
            ]
          },
          "metadata": {
            "tags": []
          },
          "execution_count": 8
        }
      ]
    },
    {
      "cell_type": "code",
      "metadata": {
        "id": "vH-DKOuHkmlG"
      },
      "source": [
        "# Convert train and test images into 'float64' type\n",
        "\n",
        "train_images = train_images.astype('float64')\n",
        "test_images = test_images.astype('float64')\n"
      ],
      "execution_count": null,
      "outputs": []
    },
    {
      "cell_type": "code",
      "metadata": {
        "id": "s92BeMYckmim"
      },
      "source": [
        "# Convert train and test labels into 'int64' type\n",
        "\n",
        "train_labels = train_labels.astype('int64')\n",
        "test_labels = test_labels.astype('int64')"
      ],
      "execution_count": null,
      "outputs": []
    },
    {
      "cell_type": "code",
      "metadata": {
        "colab": {
          "base_uri": "https://localhost:8080/"
        },
        "id": "SbPuYFQNDau7",
        "outputId": "7732840a-2cc1-4dac-ff94-4e6dbdda5fe1"
      },
      "source": [
        "print('Min: {}, Max: {}'.format(train_images.min(), train_images.max()))\n",
        "\n",
        "train_images /= 255.0\n",
        "test_images /= 255.0"
      ],
      "execution_count": null,
      "outputs": [
        {
          "output_type": "stream",
          "text": [
            "Min: 0.0, Max: 255.0\n"
          ],
          "name": "stdout"
        }
      ]
    },
    {
      "cell_type": "code",
      "metadata": {
        "id": "V4uwdjWEEtZk"
      },
      "source": [
        "train_images_gray = np.mean(train_images[1], axis=2)\n"
      ],
      "execution_count": null,
      "outputs": []
    },
    {
      "cell_type": "code",
      "metadata": {
        "colab": {
          "base_uri": "https://localhost:8080/",
          "height": 266
        },
        "id": "TJ0RyTtjd9db",
        "outputId": "693a1e92-8c77-425d-bc6b-250bd37b5ac3"
      },
      "source": [
        "plt.imshow(train_images_gray)\n",
        "\n",
        "plt.show()"
      ],
      "execution_count": null,
      "outputs": [
        {
          "output_type": "display_data",
          "data": {
            "image/png": "[encoded data removed]",
            "text/plain": [
              "<Figure size 432x288 with 1 Axes>"
            ]
          },
          "metadata": {
            "tags": [],
            "needs_background": "light"
          }
        }
      ]
    },
    {
      "cell_type": "code",
      "metadata": {
        "colab": {
          "base_uri": "https://localhost:8080/",
          "height": 283
        },
        "id": "xaaGK-YTFQ_u",
        "outputId": "f2993e8f-09b4-45d0-eccc-4074ae628a4c"
      },
      "source": [
        "plt.imshow(train_images[1])\n",
        "\n",
        "plt.show()\n",
        "print(f\"Label: {train_labels[i][0]}\")\n",
        "plt.show()"
      ],
      "execution_count": null,
      "outputs": [
        {
          "output_type": "display_data",
          "data": {
            "image/png": "[encoded data removed]",
            "text/plain": [
              "<Figure size 432x288 with 1 Axes>"
            ]
          },
          "metadata": {
            "tags": [],
            "needs_background": "light"
          }
        },
        {
          "output_type": "stream",
          "text": [
            "Label: 1\n"
          ],
          "name": "stdout"
        }
      ]
    },
    {
      "cell_type": "code",
      "metadata": {
        "id": "I5SrNLuwkmgH",
        "colab": {
          "base_uri": "https://localhost:8080/",
          "height": 248
        },
        "outputId": "96d1b4f1-441c-4546-bf7f-fd12c6b088fe"
      },
      "source": [
        "# Normalize the images data\n",
        "fig, ax = plt.subplots(1, 10, figsize=(10, 1))\n",
        "for i in range(10):\n",
        "    random_inx = np.random.randint(1000)\n",
        "    ax[i].set_axis_off()\n",
        "    ax[i].imshow(train_images[random_inx])\n",
        "    print(f\"Label: {train_labels[random_inx][0]}\")"
      ],
      "execution_count": null,
      "outputs": [
        {
          "output_type": "stream",
          "text": [
            "Label: 2\n",
            "Label: 6\n",
            "Label: 10\n",
            "Label: 5\n",
            "Label: 6\n",
            "Label: 4\n",
            "Label: 1\n",
            "Label: 5\n",
            "Label: 9\n",
            "Label: 6\n"
          ],
          "name": "stdout"
        },
        {
          "output_type": "display_data",
          "data": {
            "image/png": "[encoded data removed]",
            "text/plain": [
              "<Figure size 720x72 with 10 Axes>"
            ]
          },
          "metadata": {
            "tags": [],
            "needs_background": "light"
          }
        }
      ]
    },
    {
      "cell_type": "code",
      "metadata": {
        "id": "GhkvCbXxkmdd"
      },
      "source": [
        "# One-hot encoding of train and test labels\n",
        "\n",
        "lb = LabelBinarizer()\n",
        "train_labels = lb.fit_transform(train_labels)\n",
        "test_labels = lb.fit_transform(test_labels)"
      ],
      "execution_count": null,
      "outputs": []
    },
    {
      "cell_type": "code",
      "metadata": {
        "id": "rFmvCT_hkmak"
      },
      "source": [
        "# Split train data into train and validation sets\n",
        "\n",
        "#X_train, X_val, y_train, y_val = train_test_split(train_images, train_labels,test_size=0.15, random_state=22)\n"
      ],
      "execution_count": null,
      "outputs": []
    },
    {
      "cell_type": "code",
      "metadata": {
        "id": "H4qffcfPkmYC"
      },
      "source": [
        "#y_val.shape"
      ],
      "execution_count": null,
      "outputs": []
    },
    {
      "cell_type": "markdown",
      "metadata": {
        "id": "7e7iSyWXz_GN"
      },
      "source": [
        "## 2. MLP neural network classifier\n",
        "* Build an MLP classifier model using the Sequential API. Your model should use only Flatten and Dense layers, with the final layer having a 10-way softmax output. \n",
        "* You should design and build the model yourself. Feel free to experiment with different MLP architectures. _Hint: to achieve a reasonable accuracy you won't need to use more than 4 or 5 layers._\n",
        "* Print out the model summary (using the summary() method)\n",
        "* Compile and train the model (we recommend a maximum of 30 epochs), making use of both training and validation sets during the training run. \n",
        "* Your model should track at least one appropriate metric, and use at least two callbacks during training, one of which should be a ModelCheckpoint callback.\n",
        "* As a guide, you should aim to achieve a final categorical cross entropy training loss of less than 1.0 (the validation loss might be higher).\n",
        "* Plot the learning curves for loss vs epoch and accuracy vs epoch for both training and validation sets.\n",
        "* Compute and display the loss and accuracy of the trained model on the test set."
      ]
    },
    {
      "cell_type": "code",
      "metadata": {
        "id": "XAcck7VvuXnB",
        "colab": {
          "base_uri": "https://localhost:8080/"
        },
        "outputId": "4d4a280c-b17d-4f93-ab3c-b1e285a65d98"
      },
      "source": [
        "train_images[1].shape\n"
      ],
      "execution_count": null,
      "outputs": [
        {
          "output_type": "execute_result",
          "data": {
            "text/plain": [
              "(32, 32, 3)"
            ]
          },
          "metadata": {
            "tags": []
          },
          "execution_count": 18
        }
      ]
    },
    {
      "cell_type": "code",
      "metadata": {
        "id": "oWZs0EiEqDwn"
      },
      "source": [
        "def get_mlp_model():\n",
        "\n",
        "    MLPmodel = Sequential([ Flatten(input_shape = (32,32, 3)),\n",
        "                         Dense(128, activation=\"relu\"),\n",
        "                         Dense(64, activation=\"relu\"),\n",
        "                        \n",
        "                         Dense(64, activation=\"relu\"),\n",
        "                         \n",
        "                         Dense(16, activation=\"relu\"),\n",
        "                         \n",
        "                         Flatten(),\n",
        "                         Dense(10, activation=\"softmax\")\n",
        "                         ])\n",
        "    MLPmodel.compile(optimizer=\"adam\",loss=\"categorical_crossentropy\", metrics=[\"accuracy\"])\n",
        "    return MLPmodel"
      ],
      "execution_count": null,
      "outputs": []
    },
    {
      "cell_type": "code",
      "metadata": {
        "id": "hf6keeley9Rr"
      },
      "source": [
        "early_stopping = EarlyStopping(monitor = \"val_accuracy\",patience=5 )\n",
        "checkpoint = ModelCheckpoint(filepath=\"checkpoint1\",\n",
        "                            save_weights_only = True, \n",
        "                             \n",
        "                             save_freq=\"epoch\",\n",
        "                             save_best_only = True  )"
      ],
      "execution_count": null,
      "outputs": []
    },
    {
      "cell_type": "code",
      "metadata": {
        "id": "QGw83RqFuBRR"
      },
      "source": [
        "MLPmodel = get_mlp_model()"
      ],
      "execution_count": null,
      "outputs": []
    },
    {
      "cell_type": "code",
      "metadata": {
        "id": "pPPbzGhVz_GW",
        "colab": {
          "base_uri": "https://localhost:8080/"
        },
        "outputId": "73e5b207-a89e-48d5-e8ef-eef3f582b723"
      },
      "source": [
        "history = MLPmodel.fit(train_images,train_labels ,epochs=60, validation_split=0.15 , batch_size=256 , callbacks=[early_stopping,checkpoint] ,verbose = 2)"
      ],
      "execution_count": null,
      "outputs": [
        {
          "output_type": "stream",
          "text": [
            "Epoch 1/60\n",
            "244/244 - 2s - loss: 2.2397 - accuracy: 0.1896 - val_loss: 2.1139 - val_accuracy: 0.2532\n",
            "Epoch 2/60\n",
            "244/244 - 1s - loss: 1.8673 - accuracy: 0.3352 - val_loss: 1.6783 - val_accuracy: 0.4094\n",
            "Epoch 3/60\n",
            "244/244 - 1s - loss: 1.5424 - accuracy: 0.4679 - val_loss: 1.5221 - val_accuracy: 0.4867\n",
            "Epoch 4/60\n",
            "244/244 - 1s - loss: 1.3592 - accuracy: 0.5546 - val_loss: 1.2505 - val_accuracy: 0.6018\n",
            "Epoch 5/60\n",
            "244/244 - 1s - loss: 1.2034 - accuracy: 0.6166 - val_loss: 1.1538 - val_accuracy: 0.6357\n",
            "Epoch 6/60\n",
            "244/244 - 1s - loss: 1.1318 - accuracy: 0.6445 - val_loss: 1.1165 - val_accuracy: 0.6457\n",
            "Epoch 7/60\n",
            "244/244 - 1s - loss: 1.0659 - accuracy: 0.6679 - val_loss: 1.0576 - val_accuracy: 0.6718\n",
            "Epoch 8/60\n",
            "244/244 - 1s - loss: 1.0285 - accuracy: 0.6804 - val_loss: 1.0359 - val_accuracy: 0.6737\n",
            "Epoch 9/60\n",
            "244/244 - 1s - loss: 1.0007 - accuracy: 0.6901 - val_loss: 1.0461 - val_accuracy: 0.6681\n",
            "Epoch 10/60\n",
            "244/244 - 1s - loss: 0.9621 - accuracy: 0.7034 - val_loss: 0.9989 - val_accuracy: 0.6870\n",
            "Epoch 11/60\n",
            "244/244 - 1s - loss: 0.9340 - accuracy: 0.7117 - val_loss: 0.9421 - val_accuracy: 0.7057\n",
            "Epoch 12/60\n",
            "244/244 - 1s - loss: 0.9044 - accuracy: 0.7228 - val_loss: 0.9238 - val_accuracy: 0.7093\n",
            "Epoch 13/60\n",
            "244/244 - 1s - loss: 0.8942 - accuracy: 0.7254 - val_loss: 0.9193 - val_accuracy: 0.7091\n",
            "Epoch 14/60\n",
            "244/244 - 1s - loss: 0.8736 - accuracy: 0.7302 - val_loss: 0.8850 - val_accuracy: 0.7250\n",
            "Epoch 15/60\n",
            "244/244 - 1s - loss: 0.8565 - accuracy: 0.7383 - val_loss: 0.8919 - val_accuracy: 0.7238\n",
            "Epoch 16/60\n",
            "244/244 - 1s - loss: 0.8323 - accuracy: 0.7469 - val_loss: 0.8751 - val_accuracy: 0.7258\n",
            "Epoch 17/60\n",
            "244/244 - 1s - loss: 0.8303 - accuracy: 0.7448 - val_loss: 0.9830 - val_accuracy: 0.6924\n",
            "Epoch 18/60\n",
            "244/244 - 1s - loss: 0.8196 - accuracy: 0.7489 - val_loss: 0.8468 - val_accuracy: 0.7407\n",
            "Epoch 19/60\n",
            "244/244 - 1s - loss: 0.7971 - accuracy: 0.7579 - val_loss: 0.8537 - val_accuracy: 0.7328\n",
            "Epoch 20/60\n",
            "244/244 - 1s - loss: 0.7871 - accuracy: 0.7596 - val_loss: 0.8633 - val_accuracy: 0.7356\n",
            "Epoch 21/60\n",
            "244/244 - 1s - loss: 0.7900 - accuracy: 0.7595 - val_loss: 0.8129 - val_accuracy: 0.7497\n",
            "Epoch 22/60\n",
            "244/244 - 1s - loss: 0.7714 - accuracy: 0.7651 - val_loss: 0.8534 - val_accuracy: 0.7391\n",
            "Epoch 23/60\n",
            "244/244 - 1s - loss: 0.7530 - accuracy: 0.7719 - val_loss: 0.8090 - val_accuracy: 0.7491\n",
            "Epoch 24/60\n",
            "244/244 - 1s - loss: 0.7521 - accuracy: 0.7714 - val_loss: 0.8417 - val_accuracy: 0.7388\n",
            "Epoch 25/60\n",
            "244/244 - 1s - loss: 0.7334 - accuracy: 0.7767 - val_loss: 0.8055 - val_accuracy: 0.7537\n",
            "Epoch 26/60\n",
            "244/244 - 1s - loss: 0.7364 - accuracy: 0.7768 - val_loss: 0.7890 - val_accuracy: 0.7588\n",
            "Epoch 27/60\n",
            "244/244 - 1s - loss: 0.7323 - accuracy: 0.7750 - val_loss: 0.9157 - val_accuracy: 0.7162\n",
            "Epoch 28/60\n",
            "244/244 - 1s - loss: 0.7274 - accuracy: 0.7782 - val_loss: 0.7727 - val_accuracy: 0.7609\n",
            "Epoch 29/60\n",
            "244/244 - 1s - loss: 0.7145 - accuracy: 0.7829 - val_loss: 0.7972 - val_accuracy: 0.7571\n",
            "Epoch 30/60\n",
            "244/244 - 1s - loss: 0.7164 - accuracy: 0.7819 - val_loss: 0.7738 - val_accuracy: 0.7621\n",
            "Epoch 31/60\n",
            "244/244 - 1s - loss: 0.7102 - accuracy: 0.7818 - val_loss: 0.7596 - val_accuracy: 0.7685\n",
            "Epoch 32/60\n",
            "244/244 - 1s - loss: 0.6994 - accuracy: 0.7868 - val_loss: 0.7817 - val_accuracy: 0.7606\n",
            "Epoch 33/60\n",
            "244/244 - 1s - loss: 0.6943 - accuracy: 0.7872 - val_loss: 0.7254 - val_accuracy: 0.7807\n",
            "Epoch 34/60\n",
            "244/244 - 1s - loss: 0.6885 - accuracy: 0.7902 - val_loss: 0.7408 - val_accuracy: 0.7758\n",
            "Epoch 35/60\n",
            "244/244 - 1s - loss: 0.6839 - accuracy: 0.7910 - val_loss: 0.7302 - val_accuracy: 0.7802\n",
            "Epoch 36/60\n",
            "244/244 - 1s - loss: 0.6855 - accuracy: 0.7888 - val_loss: 0.7551 - val_accuracy: 0.7729\n",
            "Epoch 37/60\n",
            "244/244 - 1s - loss: 0.6769 - accuracy: 0.7919 - val_loss: 0.7358 - val_accuracy: 0.7767\n",
            "Epoch 38/60\n",
            "244/244 - 1s - loss: 0.6701 - accuracy: 0.7945 - val_loss: 0.7257 - val_accuracy: 0.7770\n"
          ],
          "name": "stdout"
        }
      ]
    },
    {
      "cell_type": "code",
      "metadata": {
        "id": "7b5_8VsCz_GZ",
        "colab": {
          "base_uri": "https://localhost:8080/",
          "height": 295
        },
        "outputId": "1ee66b47-f856-44ed-933e-1f7b73f4a35f"
      },
      "source": [
        "plt.plot(history.history['loss'])\n",
        "plt.plot(history.history['val_loss'])\n",
        "\n",
        "plt.title('model loss')\n",
        "plt.ylabel('loss')\n",
        "plt.xlabel('epoch')\n",
        "plt.legend(['train', 'test'], loc='upper left')\n",
        "plt.show()"
      ],
      "execution_count": null,
      "outputs": [
        {
          "output_type": "display_data",
          "data": {
            "image/png": "[encoded data removed]",
            "text/plain": [
              "<Figure size 432x288 with 1 Axes>"
            ]
          },
          "metadata": {
            "tags": [],
            "needs_background": "light"
          }
        }
      ]
    },
    {
      "cell_type": "code",
      "metadata": {
        "id": "wTqwDD_XS7t7",
        "colab": {
          "base_uri": "https://localhost:8080/",
          "height": 295
        },
        "outputId": "7963bb76-c3a5-4ade-c03e-dc01a60c97cd"
      },
      "source": [
        "\n",
        "plt.plot(history.history['accuracy'])\n",
        "plt.plot(history.history['val_accuracy'])\n",
        "plt.title('model accuracy')\n",
        "plt.ylabel('accuracy')\n",
        "plt.xlabel('epoch')\n",
        "\n",
        "plt.show()"
      ],
      "execution_count": null,
      "outputs": [
        {
          "output_type": "display_data",
          "data": {
            "image/png": "[encoded data removed]",
            "text/plain": [
              "<Figure size 432x288 with 1 Axes>"
            ]
          },
          "metadata": {
            "tags": [],
            "needs_background": "light"
          }
        }
      ]
    },
    {
      "cell_type": "code",
      "metadata": {
        "id": "b0kH6VYqz_Gc",
        "colab": {
          "base_uri": "https://localhost:8080/"
        },
        "outputId": "97909b9c-00f0-41e6-ff1e-59070df2e9d6"
      },
      "source": [
        "MLPmodel.evaluate(test_images, test_labels, verbose=False)"
      ],
      "execution_count": null,
      "outputs": [
        {
          "output_type": "execute_result",
          "data": {
            "text/plain": [
              "[0.8576376438140869, 0.7515749931335449]"
            ]
          },
          "metadata": {
            "tags": []
          },
          "execution_count": 45
        }
      ]
    },
    {
      "cell_type": "code",
      "metadata": {
        "id": "MhYY6PmwY-Eo",
        "colab": {
          "base_uri": "https://localhost:8080/"
        },
        "outputId": "ecb6eff4-0adc-4997-c08c-eb035d241ee8"
      },
      "source": [
        "MLPmodel.summary()"
      ],
      "execution_count": null,
      "outputs": [
        {
          "output_type": "stream",
          "text": [
            "Model: \"sequential_3\"\n",
            "_________________________________________________________________\n",
            "Layer (type)                 Output Shape              Param #   \n",
            "=================================================================\n",
            "flatten_5 (Flatten)          (None, 3072)              0         \n",
            "_________________________________________________________________\n",
            "dense_11 (Dense)             (None, 128)               393344    \n",
            "_________________________________________________________________\n",
            "dense_12 (Dense)             (None, 64)                8256      \n",
            "_________________________________________________________________\n",
            "dense_13 (Dense)             (None, 64)                4160      \n",
            "_________________________________________________________________\n",
            "dense_14 (Dense)             (None, 16)                1040      \n",
            "_________________________________________________________________\n",
            "flatten_6 (Flatten)          (None, 16)                0         \n",
            "_________________________________________________________________\n",
            "dense_15 (Dense)             (None, 10)                170       \n",
            "=================================================================\n",
            "Total params: 406,970\n",
            "Trainable params: 406,970\n",
            "Non-trainable params: 0\n",
            "_________________________________________________________________\n"
          ],
          "name": "stdout"
        }
      ]
    },
    {
      "cell_type": "markdown",
      "metadata": {
        "id": "ncPtDtCLz_Gg"
      },
      "source": [
        "## 3. CNN neural network classifier\n",
        "* Build a CNN classifier model using the Sequential API. Your model should use the Conv2D, MaxPool2D, BatchNormalization, Flatten, Dense and Dropout layers. The final layer should again have a 10-way softmax output. \n",
        "* You should design and build the model yourself. Feel free to experiment with different CNN architectures. _Hint: to achieve a reasonable accuracy you won't need to use more than 2 or 3 convolutional layers and 2 fully connected layers.)_\n",
        "* The CNN model should use fewer trainable parameters than your MLP model.\n",
        "* Compile and train the model (we recommend a maximum of 30 epochs), making use of both training and validation sets during the training run.\n",
        "* Your model should track at least one appropriate metric, and use at least two callbacks during training, one of which should be a ModelCheckpoint callback.\n",
        "* You should aim to beat the MLP model performance with fewer parameters!\n",
        "* Plot the learning curves for loss vs epoch and accuracy vs epoch for both training and validation sets.\n",
        "* Compute and display the loss and accuracy of the trained model on the test set."
      ]
    },
    {
      "cell_type": "code",
      "metadata": {
        "id": "yk2mH3Npz_Gh"
      },
      "source": [
        "def get_cnnmodel():\n",
        "\n",
        "    cnnmodel = Sequential([Conv2D(32 ,3, input_shape = train_images[0].shape , activation=\"relu\"),\n",
        "                           Dropout(0.5),\n",
        "                           Conv2D(64,3, activation=\"relu\"),\n",
        "                           Dropout(0.5),\n",
        "                           Conv2D(128,3, activation=\"relu\"),\n",
        "                           Conv2D(256,3, activation=\"relu\"),\n",
        "                           Dropout(0.5),\n",
        "                           Flatten(),\n",
        "                           Dense(128, activation = \"relu\"),\n",
        "                           Dropout(0.5),\n",
        "                           Flatten(),\n",
        "                           Dense(10, activation=\"softmax\")\n",
        "                       ])\n",
        "    cnnmodel.compile(optimizer=\"adam\",loss=\"categorical_crossentropy\",metrics=[\"accuracy\"])\n",
        "    return cnnmodel"
      ],
      "execution_count": null,
      "outputs": []
    },
    {
      "cell_type": "code",
      "metadata": {
        "id": "EAIhSwNbum3S"
      },
      "source": [
        "cnnmodel = get_cnnmodel()"
      ],
      "execution_count": null,
      "outputs": []
    },
    {
      "cell_type": "code",
      "metadata": {
        "id": "G0G3TnytZEwF",
        "colab": {
          "base_uri": "https://localhost:8080/"
        },
        "outputId": "6cf6196c-0d1e-4d91-9252-f54e944ab1be"
      },
      "source": [
        "cnnmodel.summary()"
      ],
      "execution_count": null,
      "outputs": [
        {
          "output_type": "stream",
          "text": [
            "Model: \"sequential_18\"\n",
            "_________________________________________________________________\n",
            "Layer (type)                 Output Shape              Param #   \n",
            "=================================================================\n",
            "conv2d_19 (Conv2D)           (None, 30, 30, 32)        896       \n",
            "_________________________________________________________________\n",
            "dropout_18 (Dropout)         (None, 30, 30, 32)        0         \n",
            "_________________________________________________________________\n",
            "conv2d_20 (Conv2D)           (None, 28, 28, 64)        18496     \n",
            "_________________________________________________________________\n",
            "dropout_19 (Dropout)         (None, 28, 28, 64)        0         \n",
            "_________________________________________________________________\n",
            "conv2d_21 (Conv2D)           (None, 26, 26, 128)       73856     \n",
            "_________________________________________________________________\n",
            "dropout_20 (Dropout)         (None, 26, 26, 128)       0         \n",
            "_________________________________________________________________\n",
            "flatten_25 (Flatten)         (None, 86528)             0         \n",
            "_________________________________________________________________\n",
            "dense_48 (Dense)             (None, 128)               11075712  \n",
            "_________________________________________________________________\n",
            "dropout_21 (Dropout)         (None, 128)               0         \n",
            "_________________________________________________________________\n",
            "dense_49 (Dense)             (None, 10)                1290      \n",
            "=================================================================\n",
            "Total params: 11,170,250\n",
            "Trainable params: 11,170,250\n",
            "Non-trainable params: 0\n",
            "_________________________________________________________________\n"
          ],
          "name": "stdout"
        }
      ]
    },
    {
      "cell_type": "code",
      "metadata": {
        "id": "lbgRgZ5cz_Gn"
      },
      "source": [
        "cnnmodel.compile(optimizer=\"adam\",loss=\"categorical_crossentropy\",metrics=[\"accuracy\"])\n",
        "early_stopping = EarlyStopping(monitor = \"val_accuracy\",patience=10 )\n",
        "checkpoint2 = ModelCheckpoint(filepath=\"checkpoint2\",\n",
        "                             save_freq=\"epoch\",\n",
        "                             save_best_only = True )"
      ],
      "execution_count": null,
      "outputs": []
    },
    {
      "cell_type": "code",
      "metadata": {
        "id": "nkmS2vV2z_Gs",
        "colab": {
          "base_uri": "https://localhost:8080/"
        },
        "outputId": "524e5e63-6e22-4492-ea0b-10e72a1686bd"
      },
      "source": [
        "history = cnnmodel.fit(train_images,train_labels ,epochs=60, validation_split=0.15 , batch_size=512, callbacks=[checkpoint2], verbose =1)"
      ],
      "execution_count": null,
      "outputs": [
        {
          "output_type": "stream",
          "text": [
            "Epoch 1/60\n",
            "122/122 [==============================] - 23s 186ms/step - loss: 2.6027 - accuracy: 0.1568 - val_loss: 2.2373 - val_accuracy: 0.1881\n",
            "INFO:tensorflow:Assets written to: checkpoint2/assets\n",
            "Epoch 2/60\n",
            "122/122 [==============================] - 23s 186ms/step - loss: 2.2425 - accuracy: 0.1859 - val_loss: 2.0464 - val_accuracy: 0.2940\n",
            "INFO:tensorflow:Assets written to: checkpoint2/assets\n",
            "Epoch 3/60\n",
            "122/122 [==============================] - 22s 182ms/step - loss: 1.8791 - accuracy: 0.3455 - val_loss: 1.0227 - val_accuracy: 0.6974\n",
            "INFO:tensorflow:Assets written to: checkpoint2/assets\n",
            "Epoch 4/60\n",
            "122/122 [==============================] - 22s 182ms/step - loss: 1.2150 - accuracy: 0.6120 - val_loss: 0.8813 - val_accuracy: 0.7231\n",
            "INFO:tensorflow:Assets written to: checkpoint2/assets\n",
            "Epoch 5/60\n",
            "122/122 [==============================] - 22s 183ms/step - loss: 1.0738 - accuracy: 0.6565 - val_loss: 0.7581 - val_accuracy: 0.7672\n",
            "INFO:tensorflow:Assets written to: checkpoint2/assets\n",
            "Epoch 6/60\n",
            "122/122 [==============================] - 22s 184ms/step - loss: 1.0398 - accuracy: 0.6708 - val_loss: 0.7659 - val_accuracy: 0.7666\n",
            "Epoch 7/60\n",
            "122/122 [==============================] - 22s 183ms/step - loss: 1.0049 - accuracy: 0.6822 - val_loss: 0.7262 - val_accuracy: 0.7768\n",
            "INFO:tensorflow:Assets written to: checkpoint2/assets\n",
            "Epoch 8/60\n",
            "122/122 [==============================] - 22s 182ms/step - loss: 0.9969 - accuracy: 0.6842 - val_loss: 0.7269 - val_accuracy: 0.7712\n",
            "Epoch 9/60\n",
            "122/122 [==============================] - 22s 183ms/step - loss: 0.9733 - accuracy: 0.6878 - val_loss: 0.7391 - val_accuracy: 0.7704\n",
            "Epoch 10/60\n",
            "122/122 [==============================] - 22s 183ms/step - loss: 0.9494 - accuracy: 0.7016 - val_loss: 0.6879 - val_accuracy: 0.7814\n",
            "INFO:tensorflow:Assets written to: checkpoint2/assets\n",
            "Epoch 11/60\n",
            "122/122 [==============================] - 22s 183ms/step - loss: 0.9373 - accuracy: 0.7029 - val_loss: 0.6689 - val_accuracy: 0.7908\n",
            "INFO:tensorflow:Assets written to: checkpoint2/assets\n",
            "Epoch 12/60\n",
            "122/122 [==============================] - 22s 182ms/step - loss: 0.9259 - accuracy: 0.7059 - val_loss: 0.6872 - val_accuracy: 0.7854\n",
            "Epoch 13/60\n",
            "122/122 [==============================] - 22s 182ms/step - loss: 0.9128 - accuracy: 0.7100 - val_loss: 0.6884 - val_accuracy: 0.7844\n",
            "Epoch 14/60\n",
            "122/122 [==============================] - 22s 182ms/step - loss: 0.8942 - accuracy: 0.7168 - val_loss: 0.6411 - val_accuracy: 0.8018\n",
            "INFO:tensorflow:Assets written to: checkpoint2/assets\n",
            "Epoch 15/60\n",
            "122/122 [==============================] - 22s 184ms/step - loss: 0.8754 - accuracy: 0.7227 - val_loss: 0.6590 - val_accuracy: 0.7972\n",
            "Epoch 16/60\n",
            "122/122 [==============================] - 22s 184ms/step - loss: 0.8543 - accuracy: 0.7311 - val_loss: 0.5200 - val_accuracy: 0.8411\n",
            "INFO:tensorflow:Assets written to: checkpoint2/assets\n",
            "Epoch 17/60\n",
            "122/122 [==============================] - 22s 184ms/step - loss: 0.7418 - accuracy: 0.7697 - val_loss: 0.4654 - val_accuracy: 0.8569\n",
            "INFO:tensorflow:Assets written to: checkpoint2/assets\n",
            "Epoch 18/60\n",
            "122/122 [==============================] - 22s 184ms/step - loss: 0.6837 - accuracy: 0.7899 - val_loss: 0.4440 - val_accuracy: 0.8663\n",
            "INFO:tensorflow:Assets written to: checkpoint2/assets\n",
            "Epoch 19/60\n",
            "122/122 [==============================] - 22s 184ms/step - loss: 0.6443 - accuracy: 0.8011 - val_loss: 0.4174 - val_accuracy: 0.8725\n",
            "INFO:tensorflow:Assets written to: checkpoint2/assets\n",
            "Epoch 20/60\n",
            "122/122 [==============================] - 23s 185ms/step - loss: 0.6078 - accuracy: 0.8107 - val_loss: 0.4063 - val_accuracy: 0.8768\n",
            "INFO:tensorflow:Assets written to: checkpoint2/assets\n",
            "Epoch 21/60\n",
            "122/122 [==============================] - 23s 185ms/step - loss: 0.5917 - accuracy: 0.8192 - val_loss: 0.3812 - val_accuracy: 0.8844\n",
            "INFO:tensorflow:Assets written to: checkpoint2/assets\n",
            "Epoch 22/60\n",
            "122/122 [==============================] - 23s 184ms/step - loss: 0.5622 - accuracy: 0.8242 - val_loss: 0.3725 - val_accuracy: 0.8864\n",
            "INFO:tensorflow:Assets written to: checkpoint2/assets\n",
            "Epoch 23/60\n",
            "122/122 [==============================] - 23s 185ms/step - loss: 0.5440 - accuracy: 0.8329 - val_loss: 0.3662 - val_accuracy: 0.8875\n",
            "INFO:tensorflow:Assets written to: checkpoint2/assets\n",
            "Epoch 24/60\n",
            "122/122 [==============================] - 23s 185ms/step - loss: 0.5206 - accuracy: 0.8378 - val_loss: 0.3503 - val_accuracy: 0.8941\n",
            "INFO:tensorflow:Assets written to: checkpoint2/assets\n",
            "Epoch 25/60\n",
            "122/122 [==============================] - 23s 185ms/step - loss: 0.5087 - accuracy: 0.8433 - val_loss: 0.3514 - val_accuracy: 0.8932\n",
            "Epoch 26/60\n",
            "122/122 [==============================] - 23s 185ms/step - loss: 0.4942 - accuracy: 0.8497 - val_loss: 0.3416 - val_accuracy: 0.8992\n",
            "INFO:tensorflow:Assets written to: checkpoint2/assets\n",
            "Epoch 27/60\n",
            "122/122 [==============================] - 23s 185ms/step - loss: 0.4687 - accuracy: 0.8529 - val_loss: 0.3260 - val_accuracy: 0.9021\n",
            "INFO:tensorflow:Assets written to: checkpoint2/assets\n",
            "Epoch 28/60\n",
            "122/122 [==============================] - 23s 185ms/step - loss: 0.4586 - accuracy: 0.8565 - val_loss: 0.3303 - val_accuracy: 0.8997\n",
            "Epoch 29/60\n",
            "122/122 [==============================] - 23s 186ms/step - loss: 0.4432 - accuracy: 0.8612 - val_loss: 0.3183 - val_accuracy: 0.9061\n",
            "INFO:tensorflow:Assets written to: checkpoint2/assets\n",
            "Epoch 30/60\n",
            "122/122 [==============================] - 23s 185ms/step - loss: 0.4268 - accuracy: 0.8673 - val_loss: 0.3215 - val_accuracy: 0.9081\n",
            "Epoch 31/60\n",
            "122/122 [==============================] - 23s 185ms/step - loss: 0.4197 - accuracy: 0.8701 - val_loss: 0.3146 - val_accuracy: 0.9071\n",
            "INFO:tensorflow:Assets written to: checkpoint2/assets\n",
            "Epoch 32/60\n",
            "122/122 [==============================] - 23s 185ms/step - loss: 0.4047 - accuracy: 0.8723 - val_loss: 0.3266 - val_accuracy: 0.9052\n",
            "Epoch 33/60\n",
            "122/122 [==============================] - 23s 185ms/step - loss: 0.3973 - accuracy: 0.8754 - val_loss: 0.3260 - val_accuracy: 0.9047\n",
            "Epoch 34/60\n",
            "122/122 [==============================] - 23s 185ms/step - loss: 0.3793 - accuracy: 0.8807 - val_loss: 0.3122 - val_accuracy: 0.9134\n",
            "INFO:tensorflow:Assets written to: checkpoint2/assets\n",
            "Epoch 35/60\n",
            "122/122 [==============================] - 23s 185ms/step - loss: 0.3596 - accuracy: 0.8862 - val_loss: 0.3108 - val_accuracy: 0.9125\n",
            "INFO:tensorflow:Assets written to: checkpoint2/assets\n",
            "Epoch 36/60\n",
            "122/122 [==============================] - 23s 185ms/step - loss: 0.3675 - accuracy: 0.8843 - val_loss: 0.3083 - val_accuracy: 0.9138\n",
            "INFO:tensorflow:Assets written to: checkpoint2/assets\n",
            "Epoch 37/60\n",
            "122/122 [==============================] - 23s 185ms/step - loss: 0.3459 - accuracy: 0.8902 - val_loss: 0.3049 - val_accuracy: 0.9135\n",
            "INFO:tensorflow:Assets written to: checkpoint2/assets\n",
            "Epoch 38/60\n",
            "122/122 [==============================] - 23s 186ms/step - loss: 0.3373 - accuracy: 0.8947 - val_loss: 0.3081 - val_accuracy: 0.9122\n",
            "Epoch 39/60\n",
            "122/122 [==============================] - 23s 186ms/step - loss: 0.3263 - accuracy: 0.8953 - val_loss: 0.3266 - val_accuracy: 0.9111\n",
            "Epoch 40/60\n",
            "122/122 [==============================] - 23s 185ms/step - loss: 0.3204 - accuracy: 0.8961 - val_loss: 0.3066 - val_accuracy: 0.9145\n",
            "Epoch 41/60\n",
            "122/122 [==============================] - 23s 185ms/step - loss: 0.3138 - accuracy: 0.8976 - val_loss: 0.3144 - val_accuracy: 0.9138\n",
            "Epoch 42/60\n",
            "122/122 [==============================] - 23s 185ms/step - loss: 0.3010 - accuracy: 0.9033 - val_loss: 0.3166 - val_accuracy: 0.9141\n",
            "Epoch 43/60\n",
            "122/122 [==============================] - 23s 185ms/step - loss: 0.2947 - accuracy: 0.9047 - val_loss: 0.3105 - val_accuracy: 0.9156\n",
            "Epoch 44/60\n",
            "122/122 [==============================] - 23s 185ms/step - loss: 0.2904 - accuracy: 0.9046 - val_loss: 0.3203 - val_accuracy: 0.9167\n",
            "Epoch 45/60\n",
            "122/122 [==============================] - 23s 185ms/step - loss: 0.2829 - accuracy: 0.9089 - val_loss: 0.3276 - val_accuracy: 0.9164\n",
            "Epoch 46/60\n",
            "122/122 [==============================] - 23s 185ms/step - loss: 0.2666 - accuracy: 0.9128 - val_loss: 0.3101 - val_accuracy: 0.9188\n",
            "Epoch 47/60\n",
            "122/122 [==============================] - 23s 185ms/step - loss: 0.2771 - accuracy: 0.9078 - val_loss: 0.3338 - val_accuracy: 0.9166\n",
            "Epoch 48/60\n",
            "122/122 [==============================] - 23s 185ms/step - loss: 0.2646 - accuracy: 0.9114 - val_loss: 0.3324 - val_accuracy: 0.9166\n",
            "Epoch 49/60\n",
            "122/122 [==============================] - 23s 185ms/step - loss: 0.2595 - accuracy: 0.9147 - val_loss: 0.3324 - val_accuracy: 0.9179\n",
            "Epoch 50/60\n",
            "122/122 [==============================] - 23s 185ms/step - loss: 0.2539 - accuracy: 0.9147 - val_loss: 0.3271 - val_accuracy: 0.9178\n",
            "Epoch 51/60\n",
            "122/122 [==============================] - 23s 185ms/step - loss: 0.2513 - accuracy: 0.9181 - val_loss: 0.3503 - val_accuracy: 0.9143\n",
            "Epoch 52/60\n",
            "122/122 [==============================] - 23s 185ms/step - loss: 0.2470 - accuracy: 0.9168 - val_loss: 0.3325 - val_accuracy: 0.9197\n",
            "Epoch 53/60\n",
            "122/122 [==============================] - 23s 186ms/step - loss: 0.2449 - accuracy: 0.9187 - val_loss: 0.3448 - val_accuracy: 0.9148\n",
            "Epoch 54/60\n",
            "122/122 [==============================] - 23s 185ms/step - loss: 0.2356 - accuracy: 0.9191 - val_loss: 0.3422 - val_accuracy: 0.9169\n",
            "Epoch 55/60\n",
            "122/122 [==============================] - 23s 185ms/step - loss: 0.2350 - accuracy: 0.9209 - val_loss: 0.3448 - val_accuracy: 0.9177\n",
            "Epoch 56/60\n",
            "122/122 [==============================] - 23s 185ms/step - loss: 0.2277 - accuracy: 0.9224 - val_loss: 0.3553 - val_accuracy: 0.9188\n",
            "Epoch 57/60\n",
            "122/122 [==============================] - 23s 185ms/step - loss: 0.2249 - accuracy: 0.9242 - val_loss: 0.3393 - val_accuracy: 0.9187\n",
            "Epoch 58/60\n",
            "122/122 [==============================] - 23s 185ms/step - loss: 0.2161 - accuracy: 0.9264 - val_loss: 0.3354 - val_accuracy: 0.9206\n",
            "Epoch 59/60\n",
            "122/122 [==============================] - 23s 185ms/step - loss: 0.2133 - accuracy: 0.9265 - val_loss: 0.3377 - val_accuracy: 0.9185\n",
            "Epoch 60/60\n",
            "122/122 [==============================] - 23s 185ms/step - loss: 0.2210 - accuracy: 0.9249 - val_loss: 0.3451 - val_accuracy: 0.9195\n"
          ],
          "name": "stdout"
        }
      ]
    },
    {
      "cell_type": "code",
      "metadata": {
        "id": "VytQECDVz_Gv",
        "colab": {
          "base_uri": "https://localhost:8080/"
        },
        "outputId": "f077f19d-2ece-452e-e560-5db64086eb34"
      },
      "source": [
        "cnnmodel.evaluate(test_images, test_labels, verbose=False)"
      ],
      "execution_count": null,
      "outputs": [
        {
          "output_type": "execute_result",
          "data": {
            "text/plain": [
              "[0.4026384949684143, 0.9102643132209778]"
            ]
          },
          "metadata": {
            "tags": []
          },
          "execution_count": 122
        }
      ]
    },
    {
      "cell_type": "code",
      "metadata": {
        "id": "60mJypwQz_Gx",
        "colab": {
          "base_uri": "https://localhost:8080/",
          "height": 295
        },
        "outputId": "9b4693b5-82b9-4559-9e06-fdbebd23e8a9"
      },
      "source": [
        "plt.plot(history.history['loss'])\n",
        "plt.plot(history.history['val_loss'])\n",
        "\n",
        "plt.title('model loss')\n",
        "plt.ylabel('loss')\n",
        "plt.xlabel('epoch')\n",
        "plt.legend(['train', 'test'], loc='upper left')\n",
        "plt.show()"
      ],
      "execution_count": null,
      "outputs": [
        {
          "output_type": "display_data",
          "data": {
            "image/png": "[encoded data removed]",
            "text/plain": [
              "<Figure size 432x288 with 1 Axes>"
            ]
          },
          "metadata": {
            "tags": [],
            "needs_background": "light"
          }
        }
      ]
    },
    {
      "cell_type": "code",
      "metadata": {
        "id": "w2v80qosz_G0",
        "colab": {
          "base_uri": "https://localhost:8080/",
          "height": 295
        },
        "outputId": "344e8209-d1ca-4e03-ed64-a6b8522eaa33"
      },
      "source": [
        "plt.plot(history.history['accuracy'])\n",
        "plt.plot(history.history['val_accuracy'])\n",
        "plt.title('model accuracy')\n",
        "plt.ylabel('accuracy')\n",
        "plt.xlabel('epoch')\n",
        "\n",
        "plt.show()"
      ],
      "execution_count": null,
      "outputs": [
        {
          "output_type": "display_data",
          "data": {
            "image/png": "[encoded data removed]",
            "text/plain": [
              "<Figure size 432x288 with 1 Axes>"
            ]
          },
          "metadata": {
            "tags": [],
            "needs_background": "light"
          }
        }
      ]
    },
    {
      "cell_type": "markdown",
      "metadata": {
        "id": "3iBYFPWUz_G4"
      },
      "source": [
        "## 4. Get model predictions\n",
        "* Load the best weights for the MLP and CNN models that you saved during the training run.\n",
        "* Randomly select 5 images and corresponding labels from the test set and display the images with their labels.\n",
        "* Alongside the image and label, show each model’s predictive distribution as a bar chart, and the final model prediction given by the label with maximum probability."
      ]
    },
    {
      "cell_type": "code",
      "metadata": {
        "colab": {
          "base_uri": "https://localhost:8080/"
        },
        "id": "oEFTbsQitXg1",
        "outputId": "cb325eba-fd8d-4333-cb31-0049e48c544f"
      },
      "source": [
        "mlpmodel = get_mlp_model()\n",
        "mlpmodel.load_weights(\"checkpoint1\")\n",
        "mlpmodel.evaluate(test_images, test_labels, verbose=2)"
      ],
      "execution_count": null,
      "outputs": [
        {
          "output_type": "stream",
          "text": [
            "814/814 - 2s - loss: 0.8613 - accuracy: 0.7491\n"
          ],
          "name": "stdout"
        },
        {
          "output_type": "execute_result",
          "data": {
            "text/plain": [
              "[0.8612536787986755, 0.7491164803504944]"
            ]
          },
          "metadata": {
            "tags": []
          },
          "execution_count": 125
        }
      ]
    },
    {
      "cell_type": "code",
      "metadata": {
        "id": "npr0frvlIxfV"
      },
      "source": [
        "from tensorflow.keras.models import load_model"
      ],
      "execution_count": null,
      "outputs": []
    },
    {
      "cell_type": "code",
      "metadata": {
        "colab": {
          "base_uri": "https://localhost:8080/"
        },
        "id": "6AZq22vavodc",
        "outputId": "2b3e48c9-7441-4c01-b782-33935390de12"
      },
      "source": [
        "cnnmodel = load_model(\"checkpoint2\")\n",
        "\n",
        "cnnmodel.evaluate(test_images, test_labels, verbose=2)"
      ],
      "execution_count": null,
      "outputs": [
        {
          "output_type": "stream",
          "text": [
            "814/814 - 3s - loss: 0.3454 - accuracy: 0.9051\n"
          ],
          "name": "stdout"
        },
        {
          "output_type": "execute_result",
          "data": {
            "text/plain": [
              "[0.34537473320961, 0.9050783514976501]"
            ]
          },
          "metadata": {
            "tags": []
          },
          "execution_count": 128
        }
      ]
    },
    {
      "cell_type": "code",
      "metadata": {
        "colab": {
          "base_uri": "https://localhost:8080/",
          "height": 248
        },
        "id": "8YZakiP9wLjU",
        "outputId": "5fbe8865-90f4-44b2-ee44-f08b87f73406"
      },
      "source": [
        "fig, ax = plt.subplots(1, 10, figsize=(10, 1))\n",
        "for i in range(10):\n",
        "    random_inx = np.random.randint(1000)\n",
        "    ax[i].set_axis_off()\n",
        "    ax[i].imshow(test_images[random_inx])\n",
        "    print(f\"Label: {test_labels[random_inx]}\")"
      ],
      "execution_count": null,
      "outputs": [
        {
          "output_type": "stream",
          "text": [
            "Label: [0 0 0 0 0 0 1 0 0 0]\n",
            "Label: [0 0 1 0 0 0 0 0 0 0]\n",
            "Label: [1 0 0 0 0 0 0 0 0 0]\n",
            "Label: [1 0 0 0 0 0 0 0 0 0]\n",
            "Label: [0 0 0 0 0 0 0 0 1 0]\n",
            "Label: [0 0 0 0 0 1 0 0 0 0]\n",
            "Label: [0 1 0 0 0 0 0 0 0 0]\n",
            "Label: [0 0 1 0 0 0 0 0 0 0]\n",
            "Label: [0 1 0 0 0 0 0 0 0 0]\n",
            "Label: [0 0 0 0 0 0 0 0 1 0]\n"
          ],
          "name": "stdout"
        },
        {
          "output_type": "display_data",
          "data": {
            "image/png": "[encoded data removed]",
            "text/plain": [
              "<Figure size 720x72 with 10 Axes>"
            ]
          },
          "metadata": {
            "tags": [],
            "needs_background": "light"
          }
        }
      ]
    },
    {
      "cell_type": "code",
      "metadata": {
        "id": "CrZuJRzLwLVN"
      },
      "source": [
        ""
      ],
      "execution_count": null,
      "outputs": []
    },
    {
      "cell_type": "code",
      "metadata": {
        "id": "J_qfLvK-z_HA"
      },
      "source": [
        ""
      ],
      "execution_count": null,
      "outputs": []
    },
    {
      "cell_type": "code",
      "metadata": {
        "id": "2Lx68VA7z_HE"
      },
      "source": [
        ""
      ],
      "execution_count": null,
      "outputs": []
    },
    {
      "cell_type": "code",
      "metadata": {
        "id": "NxKa37PWz_HL"
      },
      "source": [
        ""
      ],
      "execution_count": null,
      "outputs": []
    }
  ]
}